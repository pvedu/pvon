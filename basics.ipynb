{
 "cells": [
  {
   "cell_type": "markdown",
   "metadata": {},
   "source": [
    "# Basics about the photovoltaic library"
   ]
  },
  {
   "cell_type": "code",
   "execution_count": 10,
   "metadata": {},
   "outputs": [],
   "source": [
    "import photovoltaic as pv"
   ]
  },
  {
   "cell_type": "code",
   "execution_count": 11,
   "metadata": {},
   "outputs": [
    {
     "name": "stdout",
     "output_type": "stream",
     "text": [
      "Version:  0.1.8\n"
     ]
    }
   ],
   "source": [
    "print('Version: ',pv.__version__)"
   ]
  },
  {
   "cell_type": "code",
   "execution_count": 12,
   "metadata": {},
   "outputs": [
    {
     "name": "stdout",
     "output_type": "stream",
     "text": [
      "Doc String:   Basic photovoltaic functions\n",
      "Provides the formulas and equations typically used in an introductory photocoltaics textbook.\n",
      "\n",
      "Typical solar units are used, NOT SI units. The units are denoted in parenthesis on the comment lines.\n",
      "wavelength (nm)\n",
      "Energy of  photon (eV)\n",
      "semiconductor dimensions (cm)\n",
      "degrees instead of radians.\n",
      "Temperature of 298.15 K (25 degC) not 300 K\n",
      "\n",
      "The first line on all input files is ignored to allow for column headers\n",
      "# denotes a comment in input files and is ignored.\n",
      "\n",
      "Contributions by: sgbowden, richter, heraimenka, jhul etc\n",
      "\n",
      "Variables and acronyms\n",
      "ARC - anti-reflection coating\n",
      "\n"
     ]
    }
   ],
   "source": [
    "print('Doc String: ',pv.__doc__)"
   ]
  },
  {
   "cell_type": "code",
   "execution_count": 13,
   "metadata": {},
   "outputs": [
    {
     "name": "stdout",
     "output_type": "stream",
     "text": [
      "['Stefan_Boltzmann', 'Vt', 'Wien', '__builtins__', '__cached__', '__doc__', '__file__', '__loader__', '__name__', '__package__', '__path__', '__spec__', '__version__', 'arccosd', 'arcsind', 'c', 'cell', 'core', 'cosd', 'eV', 'eVfnm', 'h', 'hbar', 'hc_q', 'joulefnm', 'k', 'k_eV', 'money', 'nmfeV', 'np', 'optic', 'pi', 'q', 'semi', 'si', 'sind', 'sun', 'tand']\n"
     ]
    }
   ],
   "source": [
    "print(dir(pv))"
   ]
  },
  {
   "cell_type": "code",
   "execution_count": 14,
   "metadata": {},
   "outputs": [
    {
     "name": "stdout",
     "output_type": "stream",
     "text": [
      "['c:\\\\python38\\\\lib\\\\site-packages\\\\photovoltaic']\n"
     ]
    }
   ],
   "source": [
    "print(pv.__path__)"
   ]
  },
  {
   "cell_type": "code",
   "execution_count": 15,
   "metadata": {},
   "outputs": [
    {
     "name": "stdout",
     "output_type": "stream",
     "text": [
      "c:\\python38\\lib\\site-packages\\photovoltaic\\__init__.py\n"
     ]
    }
   ],
   "source": [
    "print(pv.__file__)"
   ]
  },
  {
   "cell_type": "code",
   "execution_count": 17,
   "metadata": {},
   "outputs": [
    {
     "name": "stdout",
     "output_type": "stream",
     "text": [
      "0.7071067811865476\n"
     ]
    }
   ],
   "source": [
    "#make sure a simple function works\n",
    "print(pv.sind(45))"
   ]
  }
 ],
 "metadata": {
  "kernelspec": {
   "display_name": "Python 3",
   "language": "python",
   "name": "python3"
  },
  "language_info": {
   "codemirror_mode": {
    "name": "ipython",
    "version": 3
   },
   "file_extension": ".py",
   "mimetype": "text/x-python",
   "name": "python",
   "nbconvert_exporter": "python",
   "pygments_lexer": "ipython3",
   "version": "3.8.3"
  }
 },
 "nbformat": 4,
 "nbformat_minor": 4
}
